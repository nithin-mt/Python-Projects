{
 "cells": [
  {
   "cell_type": "markdown",
   "metadata": {},
   "source": [
    "<img src=\"http://cfs22.simplicdn.net/ice9/new_logo.svgz \"/>\n",
    "\n",
    "# Assignment 02: Evaluate the FDNY Dataset\n",
    "\n",
    "*The comments/sections provided are your cues to perform the assignment. You don't need to limit yourself to the number of rows/cells provided. You can add additional rows in each section to add more lines of code.*\n",
    "\n",
    "*If at any point in time you need help on solving this assignment, view our demo video to understand the different steps of the code.*\n",
    "\n",
    "**Happy coding!**\n",
    "\n",
    "* * *"
   ]
  },
  {
   "cell_type": "markdown",
   "metadata": {},
   "source": [
    "#### 1: View and import the dataset"
   ]
  },
  {
   "cell_type": "code",
   "execution_count": 1,
   "metadata": {},
   "outputs": [],
   "source": [
    "#Import the required libraries\n",
    "import pandas as pd"
   ]
  },
  {
   "cell_type": "code",
   "execution_count": 2,
   "metadata": {},
   "outputs": [],
   "source": [
    "#Import the Fire Department of New York City (FDNY) file\n",
    "fdny_dataset = pd.read_csv('D:\\\\LEARN\\\\DATA SCIENCE\\\\2. Python\\\\Projects\\\\Lesson 7 -2\\\\FDNY\\\\FDNY.csv')"
   ]
  },
  {
   "cell_type": "markdown",
   "metadata": {},
   "source": [
    "#### 2: Analyze the dataset"
   ]
  },
  {
   "cell_type": "code",
   "execution_count": 4,
   "metadata": {},
   "outputs": [
    {
     "data": {
      "text/html": [
       "<div>\n",
       "<style scoped>\n",
       "    .dataframe tbody tr th:only-of-type {\n",
       "        vertical-align: middle;\n",
       "    }\n",
       "\n",
       "    .dataframe tbody tr th {\n",
       "        vertical-align: top;\n",
       "    }\n",
       "\n",
       "    .dataframe thead th {\n",
       "        text-align: right;\n",
       "    }\n",
       "</style>\n",
       "<table border=\"1\" class=\"dataframe\">\n",
       "  <thead>\n",
       "    <tr style=\"text-align: right;\">\n",
       "      <th></th>\n",
       "      <th>FacilityName</th>\n",
       "      <th>FacilityAddress</th>\n",
       "      <th>Borough</th>\n",
       "    </tr>\n",
       "  </thead>\n",
       "  <tbody>\n",
       "    <tr>\n",
       "      <th>0</th>\n",
       "      <td>FacilityName</td>\n",
       "      <td>FacilityAddress</td>\n",
       "      <td>Borough</td>\n",
       "    </tr>\n",
       "    <tr>\n",
       "      <th>1</th>\n",
       "      <td>Engine 4/Ladder 15</td>\n",
       "      <td>42 South Street</td>\n",
       "      <td>Manhattan</td>\n",
       "    </tr>\n",
       "    <tr>\n",
       "      <th>2</th>\n",
       "      <td>Engine 10/Ladder 10</td>\n",
       "      <td>124 Liberty Street</td>\n",
       "      <td>Manhattan</td>\n",
       "    </tr>\n",
       "    <tr>\n",
       "      <th>3</th>\n",
       "      <td>Engine 6</td>\n",
       "      <td>49 Beekman Street</td>\n",
       "      <td>Manhattan</td>\n",
       "    </tr>\n",
       "    <tr>\n",
       "      <th>4</th>\n",
       "      <td>Engine 7/Ladder 1/Battalion 1/Manhattan Boroug...</td>\n",
       "      <td>100-104 Duane Street</td>\n",
       "      <td>Manhattan</td>\n",
       "    </tr>\n",
       "    <tr>\n",
       "      <th>...</th>\n",
       "      <td>...</td>\n",
       "      <td>...</td>\n",
       "      <td>...</td>\n",
       "    </tr>\n",
       "    <tr>\n",
       "      <th>214</th>\n",
       "      <td>Engine 162/Ladder 82/Battalion 23</td>\n",
       "      <td>256 Nelson Avenue</td>\n",
       "      <td>Staten Island</td>\n",
       "    </tr>\n",
       "    <tr>\n",
       "      <th>215</th>\n",
       "      <td>Engine 167/Ladder 87</td>\n",
       "      <td>345 Annadale Road</td>\n",
       "      <td>Staten Island</td>\n",
       "    </tr>\n",
       "    <tr>\n",
       "      <th>216</th>\n",
       "      <td>Engine 164/Ladder 84</td>\n",
       "      <td>1560 Drumgoole Road West</td>\n",
       "      <td>Staten Island</td>\n",
       "    </tr>\n",
       "    <tr>\n",
       "      <th>217</th>\n",
       "      <td>Engine 168/EMS Station 23</td>\n",
       "      <td>1100 Rossville Avenue</td>\n",
       "      <td>Staten Island</td>\n",
       "    </tr>\n",
       "    <tr>\n",
       "      <th>218</th>\n",
       "      <td>Engine 151/Ladder 76</td>\n",
       "      <td>7219 Amboy Road</td>\n",
       "      <td>Staten Island</td>\n",
       "    </tr>\n",
       "  </tbody>\n",
       "</table>\n",
       "<p>219 rows × 3 columns</p>\n",
       "</div>"
      ],
      "text/plain": [
       "                                          FacilityName  \\\n",
       "0                                         FacilityName   \n",
       "1                                   Engine 4/Ladder 15   \n",
       "2                                  Engine 10/Ladder 10   \n",
       "3                                             Engine 6   \n",
       "4    Engine 7/Ladder 1/Battalion 1/Manhattan Boroug...   \n",
       "..                                                 ...   \n",
       "214                  Engine 162/Ladder 82/Battalion 23   \n",
       "215                               Engine 167/Ladder 87   \n",
       "216                               Engine 164/Ladder 84   \n",
       "217                          Engine 168/EMS Station 23   \n",
       "218                               Engine 151/Ladder 76   \n",
       "\n",
       "              FacilityAddress        Borough  \n",
       "0             FacilityAddress        Borough  \n",
       "1             42 South Street      Manhattan  \n",
       "2          124 Liberty Street      Manhattan  \n",
       "3           49 Beekman Street      Manhattan  \n",
       "4        100-104 Duane Street      Manhattan  \n",
       "..                        ...            ...  \n",
       "214         256 Nelson Avenue  Staten Island  \n",
       "215         345 Annadale Road  Staten Island  \n",
       "216  1560 Drumgoole Road West  Staten Island  \n",
       "217     1100 Rossville Avenue  Staten Island  \n",
       "218           7219 Amboy Road  Staten Island  \n",
       "\n",
       "[219 rows x 3 columns]"
      ]
     },
     "execution_count": 4,
     "metadata": {},
     "output_type": "execute_result"
    }
   ],
   "source": [
    "#View the content of the data\n",
    "fdny_dataset"
   ]
  },
  {
   "cell_type": "code",
   "execution_count": 5,
   "metadata": {},
   "outputs": [
    {
     "data": {
      "text/html": [
       "<div>\n",
       "<style scoped>\n",
       "    .dataframe tbody tr th:only-of-type {\n",
       "        vertical-align: middle;\n",
       "    }\n",
       "\n",
       "    .dataframe tbody tr th {\n",
       "        vertical-align: top;\n",
       "    }\n",
       "\n",
       "    .dataframe thead th {\n",
       "        text-align: right;\n",
       "    }\n",
       "</style>\n",
       "<table border=\"1\" class=\"dataframe\">\n",
       "  <thead>\n",
       "    <tr style=\"text-align: right;\">\n",
       "      <th></th>\n",
       "      <th>FacilityName</th>\n",
       "      <th>FacilityAddress</th>\n",
       "      <th>Borough</th>\n",
       "    </tr>\n",
       "  </thead>\n",
       "  <tbody>\n",
       "    <tr>\n",
       "      <th>0</th>\n",
       "      <td>FacilityName</td>\n",
       "      <td>FacilityAddress</td>\n",
       "      <td>Borough</td>\n",
       "    </tr>\n",
       "    <tr>\n",
       "      <th>1</th>\n",
       "      <td>Engine 4/Ladder 15</td>\n",
       "      <td>42 South Street</td>\n",
       "      <td>Manhattan</td>\n",
       "    </tr>\n",
       "    <tr>\n",
       "      <th>2</th>\n",
       "      <td>Engine 10/Ladder 10</td>\n",
       "      <td>124 Liberty Street</td>\n",
       "      <td>Manhattan</td>\n",
       "    </tr>\n",
       "    <tr>\n",
       "      <th>3</th>\n",
       "      <td>Engine 6</td>\n",
       "      <td>49 Beekman Street</td>\n",
       "      <td>Manhattan</td>\n",
       "    </tr>\n",
       "    <tr>\n",
       "      <th>4</th>\n",
       "      <td>Engine 7/Ladder 1/Battalion 1/Manhattan Boroug...</td>\n",
       "      <td>100-104 Duane Street</td>\n",
       "      <td>Manhattan</td>\n",
       "    </tr>\n",
       "  </tbody>\n",
       "</table>\n",
       "</div>"
      ],
      "text/plain": [
       "                                        FacilityName       FacilityAddress  \\\n",
       "0                                       FacilityName       FacilityAddress   \n",
       "1                                 Engine 4/Ladder 15       42 South Street   \n",
       "2                                Engine 10/Ladder 10    124 Liberty Street   \n",
       "3                                           Engine 6     49 Beekman Street   \n",
       "4  Engine 7/Ladder 1/Battalion 1/Manhattan Boroug...  100-104 Duane Street   \n",
       "\n",
       "     Borough  \n",
       "0    Borough  \n",
       "1  Manhattan  \n",
       "2  Manhattan  \n",
       "3  Manhattan  \n",
       "4  Manhattan  "
      ]
     },
     "execution_count": 5,
     "metadata": {},
     "output_type": "execute_result"
    }
   ],
   "source": [
    "#View the first five records\n",
    "fdny_dataset.head(5)"
   ]
  },
  {
   "cell_type": "code",
   "execution_count": 6,
   "metadata": {},
   "outputs": [],
   "source": [
    "#Skip the duplicate header row\n",
    "fdny_dataset = pd.read_csv('D:\\\\LEARN\\\\DATA SCIENCE\\\\2. Python\\\\Projects\\\\Lesson 7 -2\\\\FDNY\\\\FDNY.csv', skiprows=1)"
   ]
  },
  {
   "cell_type": "code",
   "execution_count": 7,
   "metadata": {},
   "outputs": [
    {
     "data": {
      "text/html": [
       "<div>\n",
       "<style scoped>\n",
       "    .dataframe tbody tr th:only-of-type {\n",
       "        vertical-align: middle;\n",
       "    }\n",
       "\n",
       "    .dataframe tbody tr th {\n",
       "        vertical-align: top;\n",
       "    }\n",
       "\n",
       "    .dataframe thead th {\n",
       "        text-align: right;\n",
       "    }\n",
       "</style>\n",
       "<table border=\"1\" class=\"dataframe\">\n",
       "  <thead>\n",
       "    <tr style=\"text-align: right;\">\n",
       "      <th></th>\n",
       "      <th>FacilityName</th>\n",
       "      <th>FacilityAddress</th>\n",
       "      <th>Borough</th>\n",
       "    </tr>\n",
       "  </thead>\n",
       "  <tbody>\n",
       "    <tr>\n",
       "      <th>0</th>\n",
       "      <td>Engine 4/Ladder 15</td>\n",
       "      <td>42 South Street</td>\n",
       "      <td>Manhattan</td>\n",
       "    </tr>\n",
       "    <tr>\n",
       "      <th>1</th>\n",
       "      <td>Engine 10/Ladder 10</td>\n",
       "      <td>124 Liberty Street</td>\n",
       "      <td>Manhattan</td>\n",
       "    </tr>\n",
       "    <tr>\n",
       "      <th>2</th>\n",
       "      <td>Engine 6</td>\n",
       "      <td>49 Beekman Street</td>\n",
       "      <td>Manhattan</td>\n",
       "    </tr>\n",
       "    <tr>\n",
       "      <th>3</th>\n",
       "      <td>Engine 7/Ladder 1/Battalion 1/Manhattan Boroug...</td>\n",
       "      <td>100-104 Duane Street</td>\n",
       "      <td>Manhattan</td>\n",
       "    </tr>\n",
       "    <tr>\n",
       "      <th>4</th>\n",
       "      <td>Ladder 8</td>\n",
       "      <td>14 North Moore Street</td>\n",
       "      <td>Manhattan</td>\n",
       "    </tr>\n",
       "  </tbody>\n",
       "</table>\n",
       "</div>"
      ],
      "text/plain": [
       "                                        FacilityName        FacilityAddress  \\\n",
       "0                                 Engine 4/Ladder 15        42 South Street   \n",
       "1                                Engine 10/Ladder 10     124 Liberty Street   \n",
       "2                                           Engine 6      49 Beekman Street   \n",
       "3  Engine 7/Ladder 1/Battalion 1/Manhattan Boroug...   100-104 Duane Street   \n",
       "4                                           Ladder 8  14 North Moore Street   \n",
       "\n",
       "     Borough  \n",
       "0  Manhattan  \n",
       "1  Manhattan  \n",
       "2  Manhattan  \n",
       "3  Manhattan  \n",
       "4  Manhattan  "
      ]
     },
     "execution_count": 7,
     "metadata": {},
     "output_type": "execute_result"
    }
   ],
   "source": [
    "#Verify if the dataset is fixed\n",
    "fdny_dataset.head(5)"
   ]
  },
  {
   "cell_type": "code",
   "execution_count": 8,
   "metadata": {},
   "outputs": [
    {
     "data": {
      "text/html": [
       "<div>\n",
       "<style scoped>\n",
       "    .dataframe tbody tr th:only-of-type {\n",
       "        vertical-align: middle;\n",
       "    }\n",
       "\n",
       "    .dataframe tbody tr th {\n",
       "        vertical-align: top;\n",
       "    }\n",
       "\n",
       "    .dataframe thead th {\n",
       "        text-align: right;\n",
       "    }\n",
       "</style>\n",
       "<table border=\"1\" class=\"dataframe\">\n",
       "  <thead>\n",
       "    <tr style=\"text-align: right;\">\n",
       "      <th></th>\n",
       "      <th>FacilityName</th>\n",
       "      <th>FacilityAddress</th>\n",
       "      <th>Borough</th>\n",
       "    </tr>\n",
       "  </thead>\n",
       "  <tbody>\n",
       "    <tr>\n",
       "      <th>count</th>\n",
       "      <td>218</td>\n",
       "      <td>218</td>\n",
       "      <td>218</td>\n",
       "    </tr>\n",
       "    <tr>\n",
       "      <th>unique</th>\n",
       "      <td>218</td>\n",
       "      <td>218</td>\n",
       "      <td>5</td>\n",
       "    </tr>\n",
       "    <tr>\n",
       "      <th>top</th>\n",
       "      <td>Marine 1</td>\n",
       "      <td>33-51 Greenpoint Avenue</td>\n",
       "      <td>Brooklyn</td>\n",
       "    </tr>\n",
       "    <tr>\n",
       "      <th>freq</th>\n",
       "      <td>1</td>\n",
       "      <td>1</td>\n",
       "      <td>66</td>\n",
       "    </tr>\n",
       "  </tbody>\n",
       "</table>\n",
       "</div>"
      ],
      "text/plain": [
       "       FacilityName          FacilityAddress   Borough\n",
       "count           218                      218       218\n",
       "unique          218                      218         5\n",
       "top        Marine 1  33-51 Greenpoint Avenue  Brooklyn\n",
       "freq              1                        1        66"
      ]
     },
     "execution_count": 8,
     "metadata": {},
     "output_type": "execute_result"
    }
   ],
   "source": [
    "#View the data statistics (Hint: use describe() method)\n",
    "fdny_dataset.describe()"
   ]
  },
  {
   "cell_type": "code",
   "execution_count": 9,
   "metadata": {},
   "outputs": [
    {
     "data": {
      "text/plain": [
       "Index(['FacilityName', 'FacilityAddress', 'Borough'], dtype='object')"
      ]
     },
     "execution_count": 9,
     "metadata": {},
     "output_type": "execute_result"
    }
   ],
   "source": [
    "#View the attributes of the dataset (Hint: view the column names)\n",
    "fdny_dataset.columns"
   ]
  },
  {
   "cell_type": "code",
   "execution_count": 12,
   "metadata": {},
   "outputs": [
    {
     "data": {
      "text/plain": [
       "RangeIndex(start=0, stop=218, step=1)"
      ]
     },
     "execution_count": 12,
     "metadata": {},
     "output_type": "execute_result"
    }
   ],
   "source": [
    "#View the index of the dataset\n",
    "fdny_dataset.index"
   ]
  },
  {
   "cell_type": "markdown",
   "metadata": {},
   "source": [
    "#### 3: Find the total number of fire department facilities in New York city"
   ]
  },
  {
   "cell_type": "code",
   "execution_count": 14,
   "metadata": {},
   "outputs": [
    {
     "data": {
      "text/plain": [
       "FacilityName       218\n",
       "FacilityAddress    218\n",
       "Borough            218\n",
       "dtype: int64"
      ]
     },
     "execution_count": 14,
     "metadata": {},
     "output_type": "execute_result"
    }
   ],
   "source": [
    "#Count number of records for each attribute\n",
    "fdny_dataset.count()"
   ]
  },
  {
   "cell_type": "code",
   "execution_count": 15,
   "metadata": {},
   "outputs": [
    {
     "data": {
      "text/plain": [
       "FacilityName       object\n",
       "FacilityAddress    object\n",
       "Borough            object\n",
       "dtype: object"
      ]
     },
     "execution_count": 15,
     "metadata": {},
     "output_type": "execute_result"
    }
   ],
   "source": [
    "#view the datatypes of all three attributes\n",
    "fdny_dataset.dtypes"
   ]
  },
  {
   "cell_type": "markdown",
   "metadata": {},
   "source": [
    "#### 4: Find the total number of fire department facilities in each borough"
   ]
  },
  {
   "cell_type": "code",
   "execution_count": 16,
   "metadata": {},
   "outputs": [],
   "source": [
    "#Select FDNY information boroughwise\n",
    "fdny_borough = fdny_dataset.groupby('Borough')"
   ]
  },
  {
   "cell_type": "code",
   "execution_count": 19,
   "metadata": {},
   "outputs": [
    {
     "data": {
      "text/plain": [
       "Borough\n",
       "Bronx            34\n",
       "Brooklyn         66\n",
       "Manhattan        48\n",
       "Queens           50\n",
       "Staten Island    20\n",
       "dtype: int64"
      ]
     },
     "execution_count": 19,
     "metadata": {},
     "output_type": "execute_result"
    }
   ],
   "source": [
    "#View FDNY informationn for each borough\n",
    "fdny_borough.size()"
   ]
  },
  {
   "cell_type": "markdown",
   "metadata": {},
   "source": [
    "#### 5: Find the total number of fire department facilities in Manhattan"
   ]
  },
  {
   "cell_type": "code",
   "execution_count": 22,
   "metadata": {},
   "outputs": [],
   "source": [
    "#Select FDNY information for Manhattan\n",
    "fdny_manhattan = fdny_borough.get_group('Manhattan')"
   ]
  },
  {
   "cell_type": "code",
   "execution_count": 23,
   "metadata": {},
   "outputs": [
    {
     "data": {
      "text/html": [
       "<div>\n",
       "<style scoped>\n",
       "    .dataframe tbody tr th:only-of-type {\n",
       "        vertical-align: middle;\n",
       "    }\n",
       "\n",
       "    .dataframe tbody tr th {\n",
       "        vertical-align: top;\n",
       "    }\n",
       "\n",
       "    .dataframe thead th {\n",
       "        text-align: right;\n",
       "    }\n",
       "</style>\n",
       "<table border=\"1\" class=\"dataframe\">\n",
       "  <thead>\n",
       "    <tr style=\"text-align: right;\">\n",
       "      <th></th>\n",
       "      <th>FacilityName</th>\n",
       "      <th>FacilityAddress</th>\n",
       "      <th>Borough</th>\n",
       "    </tr>\n",
       "  </thead>\n",
       "  <tbody>\n",
       "    <tr>\n",
       "      <th>0</th>\n",
       "      <td>Engine 4/Ladder 15</td>\n",
       "      <td>42 South Street</td>\n",
       "      <td>Manhattan</td>\n",
       "    </tr>\n",
       "    <tr>\n",
       "      <th>1</th>\n",
       "      <td>Engine 10/Ladder 10</td>\n",
       "      <td>124 Liberty Street</td>\n",
       "      <td>Manhattan</td>\n",
       "    </tr>\n",
       "    <tr>\n",
       "      <th>2</th>\n",
       "      <td>Engine 6</td>\n",
       "      <td>49 Beekman Street</td>\n",
       "      <td>Manhattan</td>\n",
       "    </tr>\n",
       "    <tr>\n",
       "      <th>3</th>\n",
       "      <td>Engine 7/Ladder 1/Battalion 1/Manhattan Boroug...</td>\n",
       "      <td>100-104 Duane Street</td>\n",
       "      <td>Manhattan</td>\n",
       "    </tr>\n",
       "    <tr>\n",
       "      <th>4</th>\n",
       "      <td>Ladder 8</td>\n",
       "      <td>14 North Moore Street</td>\n",
       "      <td>Manhattan</td>\n",
       "    </tr>\n",
       "  </tbody>\n",
       "</table>\n",
       "</div>"
      ],
      "text/plain": [
       "                                        FacilityName        FacilityAddress  \\\n",
       "0                                 Engine 4/Ladder 15        42 South Street   \n",
       "1                                Engine 10/Ladder 10     124 Liberty Street   \n",
       "2                                           Engine 6      49 Beekman Street   \n",
       "3  Engine 7/Ladder 1/Battalion 1/Manhattan Boroug...   100-104 Duane Street   \n",
       "4                                           Ladder 8  14 North Moore Street   \n",
       "\n",
       "     Borough  \n",
       "0  Manhattan  \n",
       "1  Manhattan  \n",
       "2  Manhattan  \n",
       "3  Manhattan  \n",
       "4  Manhattan  "
      ]
     },
     "execution_count": 23,
     "metadata": {},
     "output_type": "execute_result"
    }
   ],
   "source": [
    "#View FDNY information for Manhattan\n",
    "fdny_manhattan.head()"
   ]
  },
  {
   "cell_type": "code",
   "execution_count": null,
   "metadata": {},
   "outputs": [],
   "source": []
  }
 ],
 "metadata": {
  "kernelspec": {
   "display_name": "Python 3",
   "language": "python",
   "name": "python3"
  },
  "language_info": {
   "codemirror_mode": {
    "name": "ipython",
    "version": 3
   },
   "file_extension": ".py",
   "mimetype": "text/x-python",
   "name": "python",
   "nbconvert_exporter": "python",
   "pygments_lexer": "ipython3",
   "version": "3.7.6"
  }
 },
 "nbformat": 4,
 "nbformat_minor": 1
}
